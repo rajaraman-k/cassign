{
 "cells": [
  {
   "cell_type": "code",
   "execution_count": 2,
   "id": "strange-hayes",
   "metadata": {},
   "outputs": [
    {
     "name": "stdout",
     "output_type": "stream",
     "text": [
      "ZeroDivisionError\n",
      "Code executed\n"
     ]
    }
   ],
   "source": [
    "#1. Write a function to compute 5/0 and use try/except to catch the exceptions. \n",
    "def foverzero():\n",
    "  try:\n",
    "    print(5/0)\n",
    "  except ZeroDivisionError:\n",
    "    print(\"ZeroDivisionError\")\n",
    "  else:\n",
    "    print(\"sdgs\")\n",
    "  finally:\n",
    "    print(\"Code executed\")\n",
    "\n",
    "foverzero()"
   ]
  },
  {
   "cell_type": "code",
   "execution_count": 3,
   "id": "affected-wilderness",
   "metadata": {},
   "outputs": [
    {
     "name": "stdout",
     "output_type": "stream",
     "text": [
      "Americans play Baseball.\n",
      "Americans play Cricket.\n",
      "Americans watch Baseball.\n",
      "Americans watch Cricket.\n",
      "Indians play Baseball.\n",
      "Indians play Cricket.\n",
      "Indians watch Baseball.\n",
      "Indians watch Cricket.\n"
     ]
    }
   ],
   "source": [
    "'''\n",
    "2. Implement a Python program to generate all sentences where subject is in  [\"Americans\", \"Indians\"] and verb is in [\"Play\", \"watch\"] and the object is in  [\"Baseball\",\"cricket\"]. \n",
    "Hint: Subject,Verb and Object should be declared in the program as shown below. \n",
    "subjects=[\"Americans \",\"Indians\"] \n",
    "verbs=[\"play\",\"watch\"] \n",
    "objects=[\"Baseball\",\"Cricket\"] \n",
    "\n",
    "Output should come as below: \n",
    "Americans play Baseball. \n",
    "Americans play Cricket. \n",
    "Americans watch Baseball. \n",
    "Americans watch Cricket. \n",
    "Indians play Baseball. \n",
    "Indians play Cricket. \n",
    "Indians watch Baseball. \n",
    "Indians watch Cricket. \n",
    "\n",
    "'''\n",
    "subjects=[\"Americans \",\"Indians\"] \n",
    "verbs=[\"play\",\"watch\"] \n",
    "objects=[\"Baseball\",\"Cricket\"] \n",
    "for i in subjects:\n",
    "  for j in verbs:\n",
    "    for b in objects:\n",
    "      print(\"{} {} {}.\".format(i.strip(),j.strip(),b.strip()))\n"
   ]
  },
  {
   "cell_type": "code",
   "execution_count": null,
   "id": "opposed-aggregate",
   "metadata": {},
   "outputs": [],
   "source": []
  }
 ],
 "metadata": {
  "kernelspec": {
   "display_name": "Python 3",
   "language": "python",
   "name": "python3"
  },
  "language_info": {
   "codemirror_mode": {
    "name": "ipython",
    "version": 3
   },
   "file_extension": ".py",
   "mimetype": "text/x-python",
   "name": "python",
   "nbconvert_exporter": "python",
   "pygments_lexer": "ipython3",
   "version": "3.7.9"
  }
 },
 "nbformat": 4,
 "nbformat_minor": 5
}
