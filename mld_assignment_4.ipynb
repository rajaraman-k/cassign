{
 "cells": [
  {
   "cell_type": "markdown",
   "metadata": {},
   "source": [
    "1.1 Write a Python Program(with class concepts) to find the area of the triangle using the below  formula. \n",
    "\n",
    "area = (s*(s-a)*(s-b)*(s-c)) *** 0.5 \n",
    "\n",
    "Function to take the length of the sides of triangle from user should be defined in the parent  class and function to calculate the area should be defined in subclass.\n"
   ]
  },
  {
   "cell_type": "code",
   "execution_count": 18,
   "metadata": {},
   "outputs": [
    {
     "name": "stdout",
     "output_type": "stream",
     "text": [
      "Enter side a : 9\n",
      "Enter side b : 18\n",
      "Enter side c : 20.3\n",
      "Area of the triangle:80.98060412067814 cm²\n"
     ]
    }
   ],
   "source": [
    "class A:\n",
    "    def __init__(self):\n",
    "        self.a = float(input(\"Enter side a : \"))\n",
    "        self.b = float(input(\"Enter side b : \"))\n",
    "        self.c = float(input(\"Enter side c : \"))\n",
    "    \n",
    "class B(A):\n",
    "    def __init__(self, *args):\n",
    "        super(B, self).__init__(*args)\n",
    "        \n",
    "    def calcu(self):\n",
    "        s = (self.a + self.b + self.c)/2\n",
    "        area = (s * (s - self.a) * (s - self.b) * (s - self.c)) ** 0.5\n",
    "        return \"Area of the triangle:{} cm\\u00b2\".format(area)\n",
    "\n",
    "            \n",
    "obj = B()\n",
    "print(obj.calcu())"
   ]
  },
  {
   "cell_type": "markdown",
   "metadata": {},
   "source": [
    "1.2 Write a function  filter_long_words() that takes a list of words and an integer n and returns  the list of words that are longer than n. "
   ]
  },
  {
   "cell_type": "code",
   "execution_count": 8,
   "metadata": {
    "scrolled": true
   },
   "outputs": [
    {
     "name": "stdout",
     "output_type": "stream",
     "text": [
      "Enter word to add to the list of words, give a space and then Enter to finish inputing words :abcd\n",
      "Enter word to add to the list of words, give a space and then Enter to finish inputing words :efgh\n",
      "Enter word to add to the list of words, give a space and then Enter to finish inputing words :ijk\n",
      "Enter word to add to the list of words, give a space and then Enter to finish inputing words :a\n",
      "Enter word to add to the list of words, give a space and then Enter to finish inputing words :c\n",
      "Enter word to add to the list of words, give a space and then Enter to finish inputing words :er\n",
      "Enter word to add to the list of words, give a space and then Enter to finish inputing words :ert\n",
      "Enter word to add to the list of words, give a space and then Enter to finish inputing words :tyu\n",
      "Enter word to add to the list of words, give a space and then Enter to finish inputing words : \n",
      "Enter n to find the list of words longer than n: 2\n",
      "List of words longer than 2\n",
      "['abcd', 'efgh', 'ijk', 'ert', 'tyu']\n"
     ]
    }
   ],
   "source": [
    "def filter_long_words(a, n):\n",
    "    return [i for i in a if len(i)>n]\n",
    "l = []\n",
    "while(True):\n",
    "    inpud = input(\"Enter word to add to the list of words, give a space and then Enter to finish inputing words :\")   \n",
    "    if inpud == \" \":\n",
    "        break\n",
    "    l.append(inpud)\n",
    "n = int(input(\"Enter n to find the list of words longer than n: \"))\n",
    "print(\"List of words longer than {}\".format(n))\n",
    "l1 = filter_long_words(l,n)\n",
    "print(l1)"
   ]
  },
  {
   "cell_type": "markdown",
   "metadata": {},
   "source": [
    "2.1 Write a Python program using function concept that maps list of words into a list of integers  representing the lengths of the corresponding words. \n",
    "\n",
    "Hint: If a list [ ab,cde,erty] is passed on to the python function output should come as [2,3,4] \n",
    "\n",
    "Here 2,3 and 4 are the lengths of the words in the list. "
   ]
  },
  {
   "cell_type": "code",
   "execution_count": 10,
   "metadata": {},
   "outputs": [
    {
     "name": "stdout",
     "output_type": "stream",
     "text": [
      "Enter word to add to the list of words, give a space and then Enter to finish inputing words :ab\n",
      "Enter word to add to the list of words, give a space and then Enter to finish inputing words :cde\n",
      "Enter word to add to the list of words, give a space and then Enter to finish inputing words :erty\n",
      "Enter word to add to the list of words, give a space and then Enter to finish inputing words : \n",
      "[2, 3, 4]\n"
     ]
    }
   ],
   "source": [
    "def f(l):\n",
    "    return list(map(len, l))\n",
    "lst = []\n",
    "while(1):\n",
    "    i = input(\"Enter word to add to the list of words, give a space and then Enter to finish inputing words :\")\n",
    "    if i == \" \":\n",
    "        break\n",
    "    lst.append(i)\n",
    "print(f(lst))"
   ]
  },
  {
   "cell_type": "markdown",
   "metadata": {},
   "source": [
    "2.2 Write a Python function which takes a character (i.e. a string of length 1) and returns True if  it is a vowel, False otherwise. "
   ]
  },
  {
   "cell_type": "code",
   "execution_count": 11,
   "metadata": {},
   "outputs": [
    {
     "name": "stdout",
     "output_type": "stream",
     "text": [
      "Enter a character:E\n",
      "True\n"
     ]
    }
   ],
   "source": [
    "def f(chr):\n",
    "    l = ['a', 'e', 'i', 'o' ,'u' ,'A' ,'E' ,'I' ,'O' ,'U']\n",
    "    if chr in l:\n",
    "        return True\n",
    "    else:\n",
    "        return False\n",
    "\n",
    "chr = input(\"Enter a character:\")\n",
    "print(f(chr))"
   ]
  }
 ],
 "metadata": {
  "kernelspec": {
   "display_name": "Python 3",
   "language": "python",
   "name": "python3"
  },
  "language_info": {
   "codemirror_mode": {
    "name": "ipython",
    "version": 3
   },
   "file_extension": ".py",
   "mimetype": "text/x-python",
   "name": "python",
   "nbconvert_exporter": "python",
   "pygments_lexer": "ipython3",
   "version": "3.7.9"
  }
 },
 "nbformat": 4,
 "nbformat_minor": 4
}
